{
 "cells": [
  {
   "cell_type": "code",
   "execution_count": 1,
   "id": "d33828ed-993e-42c5-89f2-745b244a5590",
   "metadata": {},
   "outputs": [],
   "source": [
    "import librosa as lb\n",
    "import pandas as pd\n",
    "import numpy as np\n",
    "import os\n",
    "from scipy.fftpack import dct, fft\n",
    "from scipy.signal import periodogram\n",
    "from librosa.feature import mfcc"
   ]
  },
  {
   "cell_type": "code",
   "execution_count": 2,
   "id": "1f2f65eb-0c1a-4a3d-b6ad-5a4a1a88c8f7",
   "metadata": {},
   "outputs": [],
   "source": [
    "TRAIN_CSV = \"Train.csv\"\n",
    "OUTPUT = \"Features\"\n",
    "LENGTH = 2000"
   ]
  },
  {
   "cell_type": "code",
   "execution_count": 3,
   "id": "c610b70b-a634-4c3c-bb1b-7a4c5a5384b7",
   "metadata": {},
   "outputs": [
    {
     "data": {
      "text/html": [
       "<div>\n",
       "<style scoped>\n",
       "    .dataframe tbody tr th:only-of-type {\n",
       "        vertical-align: middle;\n",
       "    }\n",
       "\n",
       "    .dataframe tbody tr th {\n",
       "        vertical-align: top;\n",
       "    }\n",
       "\n",
       "    .dataframe thead th {\n",
       "        text-align: right;\n",
       "    }\n",
       "</style>\n",
       "<table border=\"1\" class=\"dataframe\">\n",
       "  <thead>\n",
       "    <tr style=\"text-align: right;\">\n",
       "      <th></th>\n",
       "      <th>ID</th>\n",
       "      <th>common_name</th>\n",
       "    </tr>\n",
       "  </thead>\n",
       "  <tbody>\n",
       "    <tr>\n",
       "      <th>0</th>\n",
       "      <td>MBMG2C</td>\n",
       "      <td>Ring-necked Dove</td>\n",
       "    </tr>\n",
       "    <tr>\n",
       "      <th>1</th>\n",
       "      <td>K8LJSB</td>\n",
       "      <td>Ring-necked Dove</td>\n",
       "    </tr>\n",
       "    <tr>\n",
       "      <th>2</th>\n",
       "      <td>OGD9L6</td>\n",
       "      <td>Ring-necked Dove</td>\n",
       "    </tr>\n",
       "    <tr>\n",
       "      <th>3</th>\n",
       "      <td>581PCQ</td>\n",
       "      <td>Ring-necked Dove</td>\n",
       "    </tr>\n",
       "    <tr>\n",
       "      <th>4</th>\n",
       "      <td>P91M1F</td>\n",
       "      <td>Ring-necked Dove</td>\n",
       "    </tr>\n",
       "  </tbody>\n",
       "</table>\n",
       "</div>"
      ],
      "text/plain": [
       "       ID       common_name\n",
       "0  MBMG2C  Ring-necked Dove\n",
       "1  K8LJSB  Ring-necked Dove\n",
       "2  OGD9L6  Ring-necked Dove\n",
       "3  581PCQ  Ring-necked Dove\n",
       "4  P91M1F  Ring-necked Dove"
      ]
     },
     "execution_count": 3,
     "metadata": {},
     "output_type": "execute_result"
    }
   ],
   "source": [
    "# Load train csv file\n",
    "train_csv = pd.read_csv(TRAIN_CSV)\n",
    "train_csv.head()"
   ]
  },
  {
   "cell_type": "code",
   "execution_count": 4,
   "id": "d7118e20-6385-4534-a51e-8689f45ff16d",
   "metadata": {},
   "outputs": [],
   "source": [
    "# Create a folder named after each bird specie under the Features folder. We will save the extracted features from the audio files under their corresponding folders\n",
    "for bird in train_csv['common_name'].unique():\n",
    "        if not (os.path.exists(OUTPUT + rf\"/{bird}\")):\n",
    "                os.makedirs(OUTPUT + rf\"/{bird}\")"
   ]
  },
  {
   "cell_type": "code",
   "execution_count": 5,
   "id": "ad903089-62f7-4513-b311-96d29123812e",
   "metadata": {},
   "outputs": [],
   "source": [
    "# Feutures to extract\n",
    "# MFCC\n",
    "def MFCCs(sig, sr, n_mfcc):\n",
    "    mfccs = mfcc(y=sig, sr=sr, n_mfcc=n_mfcc).flatten()\n",
    "    return mfccs[:n_mfcc]\n",
    "\n",
    "# Power Spectral Density\n",
    "def PSD(sig, sr, length):\n",
    "    (f, psd) = periodogram(sig, fs=sr, scaling='density')\n",
    "    return psd.flatten()[:length]\n",
    "\n",
    "# Discrete Cosine Transform\n",
    "def DCT(sig, length):\n",
    "    d = dct(sig)\n",
    "    return d.flatten()[:length]\n",
    "\n",
    "# Fast Fourier Transform\n",
    "def FFT(sig, length):\n",
    "    f = fft(sig).flatten()\n",
    "    n = []\n",
    "    for e in f:\n",
    "        n.append(np.sqrt(np.real(e)**2 + np.imag(e)**2))\n",
    "    return n[:length]"
   ]
  },
  {
   "cell_type": "code",
   "execution_count": 6,
   "id": "b4323a6b-acf5-43b7-a275-51e46cfc6a27",
   "metadata": {},
   "outputs": [],
   "source": [
    "features = { \n",
    "    'mfcc': [], \n",
    "    'psd': [],\n",
    "    'dct': [],\n",
    "    'fft': [],\n",
    "}"
   ]
  },
  {
   "cell_type": "code",
   "execution_count": null,
   "id": "45c6ea31-3452-4dd2-bdaa-29c008749714",
   "metadata": {},
   "outputs": [],
   "source": [
    "# Extract the 4 features and save them in a dataframe under their corrsponding specie\n",
    "for i, row in train_csv.iterrows():\n",
    "    # Load audio file\n",
    "    audio_file, sr = lb.load(rf\"Train/{row['ID']}.mp3\")\n",
    "    features['mfcc'] = MFCCs(audio_file, sr, LENGTH)\n",
    "    features['psd'] = PSD(audio_file, sr, LENGTH)\n",
    "    features['dct'] = DCT(audio_file, LENGTH)\n",
    "    features['fft'] = FFT(audio_file, LENGTH)\n",
    "    \n",
    "    feature_df = pd.DataFrame(features)\n",
    "    feature_df.to_csv(OUTPUT + rf\"/{row['common_name']}/{row['ID']}.csv\", index=False)"
   ]
  },
  {
   "cell_type": "code",
   "execution_count": null,
   "id": "f8f7f51a-4819-46f7-8cf2-063f1d31ab6d",
   "metadata": {},
   "outputs": [],
   "source": [
    "# Check the number of dataframes in each class\n",
    "counter = 0\n",
    "for root, dirs, files in os.walk(OUTPUT, topdown=False):\n",
    "    for name in files:\n",
    "        if name.endswith('.csv'):\n",
    "            counter = counter + 1\n",
    "if counter == len(train_csv):\n",
    "    print('OK')"
   ]
  }
 ],
 "metadata": {
  "kernelspec": {
   "display_name": "Bird",
   "language": "python",
   "name": "bird"
  },
  "language_info": {
   "codemirror_mode": {
    "name": "ipython",
    "version": 3
   },
   "file_extension": ".py",
   "mimetype": "text/x-python",
   "name": "python",
   "nbconvert_exporter": "python",
   "pygments_lexer": "ipython3",
   "version": "3.9.16"
  }
 },
 "nbformat": 4,
 "nbformat_minor": 5
}
